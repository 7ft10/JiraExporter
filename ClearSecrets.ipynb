{
 "cells": [
  {
   "cell_type": "code",
   "execution_count": 1,
   "metadata": {},
   "outputs": [],
   "source": [
    "# Library Import\n",
    "\n",
    "import os \n",
    "import importlib.util\n",
    "\n",
    "if importlib.util.find_spec(\"ipython-secrets\") is None:\t\n",
    "\tos.system(\"pip3 install ipython-secrets\")\n",
    "\n",
    "if importlib.util.find_spec(\"gsheet-keyring\") is None:\t\n",
    "\tos.system(\"pip3 install gsheet-keyring\")\t"
   ]
  },
  {
   "cell_type": "code",
   "execution_count": null,
   "metadata": {},
   "outputs": [],
   "source": [
    "# Delete secrets \n",
    "\n",
    "import keyring\n",
    "from gsheet_keyring import GoogleSheetKeyring\n",
    "from ipython_secrets import delete_secret\n",
    "\n",
    "secret_manager_type = \"Local\"\n",
    "\n",
    "if secret_manager_type == \"Local\":\n",
    "\tdelete_secret('SECRETS_HOST')\n",
    "\tdelete_secret('SECRETS_USERNAME')\n",
    "\tdelete_secret('SECRETS_PASSWORD')\n",
    "\n",
    "if secret_manager_type == \"GoogleColab\":\n",
    "\tkr = GoogleSheetKeyring()\n",
    "\tkeyring.set_keyring(kr)\n",
    "\n",
    "\tkr.delete_password('SECRETS_HOST')\n",
    "\tkr.delete_password('SECRETS_USERNAME')\n",
    "\tkr.delete_password('SECRETS_PASSWORD')\n",
    "\n",
    "if secret_manager_type == \"AWS\":\n",
    "\traise \"Not implemented\"\n",
    "\n",
    "display(\"Done\")"
   ]
  }
 ],
 "metadata": {
  "kernelspec": {
   "display_name": "Python 3",
   "language": "python",
   "name": "python3"
  },
  "language_info": {
   "codemirror_mode": {
    "name": "ipython",
    "version": 3
   },
   "file_extension": ".py",
   "mimetype": "text/x-python",
   "name": "python",
   "nbconvert_exporter": "python",
   "pygments_lexer": "ipython3",
   "version": "3.11.4"
  },
  "orig_nbformat": 4
 },
 "nbformat": 4,
 "nbformat_minor": 2
}
