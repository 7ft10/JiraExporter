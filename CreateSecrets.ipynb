{
 "cells": [
  {
   "cell_type": "markdown",
   "metadata": {},
   "source": [
    "<a href=\"https://colab.research.google.com/github/7ft10/JiraExporter/blob/main/CreateSecrets.ipynb\" target=\"_parent\"><img src=\"https://colab.research.google.com/assets/colab-badge.svg\" alt=\"Open In Colab\"/></a>"
   ]
  },
  {
   "cell_type": "code",
   "execution_count": 1,
   "metadata": {},
   "outputs": [],
   "source": [
    "#! Library Import\n",
    "\n",
    "import os \n",
    "import importlib.util\n",
    "\n",
    "if importlib.util.find_spec(\"pandas\") is None:\t\n",
    "\tos.system(\"pip install pandas\")\n",
    "\n",
    "if importlib.util.find_spec(\"dotenv\") is None:\t\n",
    "\tos.system(\"pip install --quiet openai python-dotenv\")"
   ]
  },
  {
   "cell_type": "code",
   "execution_count": 3,
   "metadata": {},
   "outputs": [
    {
     "data": {
      "text/plain": [
       "'Host: '"
      ]
     },
     "metadata": {},
     "output_type": "display_data"
    }
   ],
   "source": [
    "#! Load Secrets \n",
    "\n",
    "import os\n",
    "import importlib.util\n",
    "from dotenv import load_dotenv\n",
    "\n",
    "if importlib.util.find_spec(\"google.colab\") is not None: ## if using google colab\n",
    "    if not os.path.exists('.env'):\n",
    "        from google.colab import files\n",
    "        uploaded = files.upload()\n",
    "        file_name = list(uploaded.keys())[0]\n",
    "        try:\n",
    "            os.rename(file_name, '.env')\n",
    "        except:\n",
    "            pass\n",
    "    \n",
    "# Load variables from .env file\n",
    "try:\n",
    "    load_dotenv('.env')\n",
    "\n",
    "    Host = os.getenv('SECRETS_HOST') \n",
    "    Username = os.getenv('SECRETS_USERNAME') \n",
    "    Password = os.getenv('SECRETS_PASSWORD') \n",
    "except: \n",
    "    pass \n",
    "\n",
    "if Host is None or Host == \"\":\n",
    "    Host = input(\"Enter Host\")\n",
    "\n",
    "if Username is None or Username == \"\":\n",
    "    Username = input(\"Enter Username\")\n",
    "\n",
    "if Password is None or Password == \"\":\n",
    "    Password = input(\"Enter Password\")\n",
    "\n",
    "display(\"Host: \" + Host)"
   ]
  }
 ],
 "metadata": {
  "kernelspec": {
   "display_name": "Python 3",
   "language": "python",
   "name": "python3"
  },
  "language_info": {
   "codemirror_mode": {
    "name": "ipython",
    "version": 3
   },
   "file_extension": ".py",
   "mimetype": "text/x-python",
   "name": "python",
   "nbconvert_exporter": "python",
   "pygments_lexer": "ipython3",
   "version": "3.11.4"
  },
  "orig_nbformat": 4
 },
 "nbformat": 4,
 "nbformat_minor": 2
}
