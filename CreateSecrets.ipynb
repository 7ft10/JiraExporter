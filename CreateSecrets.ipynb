{
 "cells": [
  {
   "cell_type": "markdown",
   "metadata": {},
   "source": [
    "<a href=\"https://colab.research.google.com/github/7ft10/JiraExporter/blob/main/CreateSecrets.ipynb\" target=\"_parent\"><img src=\"https://colab.research.google.com/assets/colab-badge.svg\" alt=\"Open In Colab\"/></a>"
   ]
  },
  {
   "cell_type": "code",
   "execution_count": 1,
   "metadata": {},
   "outputs": [],
   "source": [
    "# Library Import\n",
    "\n",
    "import os \n",
    "import importlib.util\n",
    "\n",
    "if importlib.util.find_spec(\"ipython-secrets\") is None:\t\n",
    "\tos.system(\"pip3 install ipython-secrets\")\n",
    "\n",
    "if importlib.util.find_spec(\"gsheet-keyring\") is None:\t\n",
    "\tos.system(\"pip3 install gsheet-keyring\")\t"
   ]
  },
  {
   "cell_type": "code",
   "execution_count": null,
   "metadata": {},
   "outputs": [],
   "source": [
    "# Create secrets \n",
    "\n",
    "import keyring\n",
    "from gsheet_keyring import GoogleSheetKeyring\n",
    "from ipython_secrets import get_secret\n",
    "\n",
    "secret_manager_type = \"Local\"\n",
    "\n",
    "if secret_manager_type == \"Local\":\n",
    "\tHost = get_secret('SECRETS_HOST') \n",
    "\tUsername = get_secret('SECRETS_USERNAME') \n",
    "\tPassword = get_secret('SECRETS_PASSWORD') \n",
    "\n",
    "if secret_manager_type == \"GoogleColab\":\n",
    "\tkr = GoogleSheetKeyring()\n",
    "\tkeyring.set_keyring(kr)\n",
    "\n",
    "\tHost = kr.get_secret('SECRETS_HOST') \n",
    "\tUsername = kr.get_secret('SECRETS_USERNAME') \n",
    "\tPassword = kr.get_secret('SECRETS_PASSWORD') \n",
    "\n",
    "display(Host)\n",
    "display(Username)\n",
    "display(Password)"
   ]
  }
 ],
 "metadata": {
  "kernelspec": {
   "display_name": "Python 3",
   "language": "python",
   "name": "python3"
  },
  "language_info": {
   "codemirror_mode": {
    "name": "ipython",
    "version": 3
   },
   "file_extension": ".py",
   "mimetype": "text/x-python",
   "name": "python",
   "nbconvert_exporter": "python",
   "pygments_lexer": "ipython3",
   "version": "3.11.4"
  },
  "orig_nbformat": 4
 },
 "nbformat": 4,
 "nbformat_minor": 2
}
